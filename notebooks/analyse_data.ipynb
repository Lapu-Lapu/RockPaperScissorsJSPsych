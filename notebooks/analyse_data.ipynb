{
 "cells": [
  {
   "cell_type": "code",
   "execution_count": null,
   "id": "5f8ee3a2-727c-4b56-876c-6c3f5ad76869",
   "metadata": {},
   "outputs": [],
   "source": [
    "from collections import Counter\n",
    "\n",
    "def js_to_python(s):\n",
    "    d = {\n",
    "        \"true\": \"True\",\n",
    "        \"false\": \"False\",\n",
    "        \"null\": \"None\",\n",
    "        \"[]\": \"None\",\n",
    "        \"][\": \"],[\"\n",
    "    }\n",
    "    for k, v in d.items():\n",
    "        s = s.replace(k, v)\n",
    "    return s\n",
    "\n",
    "def read_line(s):\n",
    "    try:\n",
    "        return eval(js_to_python(s))\n",
    "    except Exception as e:\n",
    "        print(e)\n",
    "        a, b = eval(js_to_python(s))\n",
    "        return a\n",
    "\n",
    "def listdecorator(f):\n",
    "    return lambda x: list(f(x))\n",
    "\n",
    "@listdecorator\n",
    "def get_trial_data(exp_dicts):\n",
    "    return filter(is_trial, exp_dicts)\n",
    "        \n",
    "def is_trial(d):\n",
    "    st = 'stimulus_type'\n",
    "    return (d[st] == 'test') if (st in d.keys()) else False\n",
    "\n",
    "g0_instruction = '\\n<b>Geben Sie in jeder Runde Ihr Bestes, um zu gewinnen und beenden Sie die Studie bitte erst, wenn Sie alle Runden beendet haben.</b>\\n'\n",
    "g1_instruction = '\\n<b>Geben Sie in jeder Runde Ihr Bestes, um zu gewinnen, indem Sie versuchen\\n    möglichst zufällig zu spielen, da dies die beste Strategie ist, um eine\\n    künstliche Intelligenz zu besiegen.</b>\\n'\n",
    "\n",
    "def get_group(vp):\n",
    "    return int(raw_data[vp][2]['stimulus'] == g1_instruction)\n",
    "\n",
    "def nonempty_vp_idx(Ns, thr=0):\n",
    "    return map(lambda x: x[0], (filter(lambda x: x[1] > thr, enumerate(Ns))))\n",
    "\n",
    "def get_responses(vp_data):\n",
    "    return list(map(lambda d: (d['response'], d['bot_response']), filter(lambda d: 'bot_response' in d.keys(), vp_data)))\n",
    "\n",
    "def result(t):\n",
    "    return 0 if t[0] == t[1] else -1 if t[0]+t[1] in 'RPSR' else 1\n",
    "\n",
    "def count(vp):\n",
    "    return Counter(map(result, get_responses(raw_data[vp]))) \n",
    "\n",
    "def compute_winrate(vp):\n",
    "    r = count(vp)\n",
    "    return r[1] / (r[-1] + r[1])"
   ]
  },
  {
   "cell_type": "code",
   "execution_count": null,
   "id": "7777aa43",
   "metadata": {},
   "outputs": [],
   "source": [
    "from bogatron import draw_pdf_contours, Dirichlet, xy2bc, trimesh\n",
    "# draw_pdf_contours(Dirichlet([200, 100, 100]))"
   ]
  },
  {
   "cell_type": "code",
   "execution_count": null,
   "id": "b7f3b989-4eef-4ff8-b526-b7f890a2ab60",
   "metadata": {},
   "outputs": [],
   "source": [
    "xy2bc((0,0)).sum()"
   ]
  },
  {
   "cell_type": "code",
   "execution_count": null,
   "id": "bdf73749",
   "metadata": {},
   "outputs": [],
   "source": [
    "fn = '../data/experiment/jatos_results_20230119081857.txt'\n",
    "fn = '../data/experiment/jatos_results_20230119120735.txt'\n",
    "fn = '../data/experiment/jatos_results_20230120090949.txt'\n",
    "fn = '../data/experiment/jatos_results_20230120094311.txt'\n",
    "fn = '../data/experiment/jatos_results_20230125083535.txt'\n",
    "fn = '../data/experiment/jatos_results_20230126102948.txt'\n",
    "with open(fn) as fh:\n",
    "    raw_data = [read_line(s) for s in fh]\n",
    "    #raw_data = fh.readlines()\n",
    "len(raw_data)"
   ]
  },
  {
   "cell_type": "code",
   "execution_count": null,
   "id": "272f03b0-a232-4634-9b88-4d3c9c890dfa",
   "metadata": {},
   "outputs": [],
   "source": [
    "vps = list(filter(lambda vp: len(raw_data[vp]) > 600, range(len(raw_data))))\n",
    "len(vps)\n",
    "#group = [int(raw_data[vp][2]['stimulus'] == g1_instruction) for vp in vps]\n",
    "group = {vp: get_group(vp) for vp in vps}\n",
    "sum(group.values()) / len(group)\n",
    "# group"
   ]
  },
  {
   "cell_type": "code",
   "execution_count": null,
   "id": "4b324613",
   "metadata": {},
   "outputs": [],
   "source": [
    "strats = ['nash_equilibrium_strategy', 'winstay', 'rotate_strategy', 'learn_preference', 'dont_always_copy_opponent_move']\n",
    "strats = ['super_male_strategy', 'nash_equilibrium_strategy', 'winstay', 'rotate_strategy', 'learn_preference', 'dont_always_copy_opponent_move']\n",
    "for vp in vps:\n",
    "    strategy = strats[list(map(lambda d: d['strategy'], filter(lambda d: 'strategy' in d.keys(), raw_data[vp])))[0]]\n",
    "    print(f'VP {vp}: {compute_winrate(vp)}, Group {get_group(vp)}')"
   ]
  },
  {
   "cell_type": "code",
   "execution_count": null,
   "id": "13f2659c-b064-4bb7-9380-7284b3ae83fb",
   "metadata": {},
   "outputs": [],
   "source": [
    "[count(vp) for vp in vps if get_group(vp) == 0]"
   ]
  },
  {
   "cell_type": "code",
   "execution_count": null,
   "id": "f49b23ec-9689-4bbd-b6d6-7d7a9fee2042",
   "metadata": {},
   "outputs": [],
   "source": [
    "[count(vp) for vp in vps if get_group(vp) == 1]"
   ]
  },
  {
   "cell_type": "code",
   "execution_count": null,
   "id": "6f07cde9-f909-4d0a-ab41-76e88210f7c2",
   "metadata": {},
   "outputs": [],
   "source": [
    "for vp in vps:\n",
    "    wr = compute_winrate(vp)\n",
    "    \n",
    "sum([compute_winrate(vp) for vp in vps]) / len(vps)"
   ]
  },
  {
   "cell_type": "code",
   "execution_count": null,
   "id": "d5f12488-7755-4094-b2f3-fda2ec7e36a0",
   "metadata": {},
   "outputs": [],
   "source": [
    "sum([compute_winrate(vp) for vp in vps if group[vp]]) / sum(group.values())"
   ]
  },
  {
   "cell_type": "code",
   "execution_count": null,
   "id": "f8bd2f40-ea0b-424b-b6ca-e7aa53e2bb68",
   "metadata": {},
   "outputs": [],
   "source": [
    "sum([compute_winrate(vp) for vp in vps if not group[vp]]) / (len(group) - sum(group.values()))"
   ]
  },
  {
   "cell_type": "code",
   "execution_count": null,
   "id": "48bb24cd",
   "metadata": {
    "tags": []
   },
   "outputs": [],
   "source": [
    "Counter(map(result, get_responses(raw_data[vp])))[-1]"
   ]
  },
  {
   "cell_type": "code",
   "execution_count": null,
   "id": "a016da30-78f0-4988-8802-d1a55e0c85d7",
   "metadata": {},
   "outputs": [],
   "source": [
    "import scipy.stats\n",
    "# draw_pdf_contours(Dirichlet((1, 10, 1)))\n",
    "# posterior = scipy.stats.dirichlet((58, 77, 65))\n",
    "# draw_pdf_contours(posterior)"
   ]
  },
  {
   "cell_type": "code",
   "execution_count": null,
   "id": "17c8336a-7740-4da0-a694-168f5764b2e2",
   "metadata": {},
   "outputs": [],
   "source": [
    "import matplotlib.pyplot as plt\n",
    "from collections import namedtuple"
   ]
  },
  {
   "cell_type": "code",
   "execution_count": null,
   "id": "ebe92c13-8aea-4bf7-ad5e-19a43536789b",
   "metadata": {},
   "outputs": [],
   "source": [
    "Counts = namedtuple('Counts', ['win', 'lose', 'draw'])"
   ]
  },
  {
   "cell_type": "code",
   "execution_count": null,
   "id": "a2d3230c-a6ce-450f-a475-78cbc5ce8336",
   "metadata": {},
   "outputs": [],
   "source": [
    "c = Counts(lose=0, win=1, draw=2)"
   ]
  },
  {
   "cell_type": "code",
   "execution_count": null,
   "id": "22d5d2f8-7917-4c51-b2a3-3ac37c69d1b3",
   "metadata": {},
   "outputs": [],
   "source": [
    "c.lose"
   ]
  },
  {
   "cell_type": "code",
   "execution_count": null,
   "id": "310cd37c-0855-4dd2-b779-85fc7e45d8a4",
   "metadata": {},
   "outputs": [],
   "source": [
    "from functools import reduce\n",
    "from funcy import compose\n",
    "\n",
    "def to_counts(c):\n",
    "    return Counts(win=c[1], lose=c[-1], draw=c[0])\n",
    "\n",
    "def addcounts(c, acc):\n",
    "    r = Counts(win=acc.win + c.win, lose=acc.lose + c.lose, draw=acc.draw + c.draw)\n",
    "    return r\n",
    "\n",
    "reduce(addcounts, map(to_counts, map(count, vps)), Counts(0, 0, 0))"
   ]
  },
  {
   "cell_type": "code",
   "execution_count": null,
   "id": "693a3282-a372-4d55-b8af-47ea4099df80",
   "metadata": {},
   "outputs": [],
   "source": [
    "win, lose, draw = 0, 0, 0\n",
    "acc = Counts(0, 0, 0)\n",
    "for vp in vps:\n",
    "    c = count(vp)\n",
    "    win += c[1]\n",
    "    lose += c[-1]\n",
    "    draw += c[0]\n",
    "    #print(win, lose, draw)\n",
    "    acc = addcounts(to_counts(c), acc)\n",
    "win, lose, draw"
   ]
  },
  {
   "cell_type": "code",
   "execution_count": null,
   "id": "35137cf6-1693-46a0-99b2-383254e0eca2",
   "metadata": {},
   "outputs": [],
   "source": [
    "fig, ax = plt.subplots(1, 2)\n",
    "plt.title(f'{win}, {lose}, {draw}')\n",
    "plt.sca(ax[0])\n",
    "draw_pdf_contours(Dirichlet((c[1], c[-1], c[0])))\n",
    "plt.sca(ax[1])\n",
    "draw_pdf_contours(Dirichlet((win, lose, draw)))\n",
    "plt.show()"
   ]
  },
  {
   "cell_type": "code",
   "execution_count": null,
   "id": "40e66c70-1912-44f7-a874-0b4f1f70e69b",
   "metadata": {},
   "outputs": [],
   "source": [
    "c = reduce(addcounts, map(to_counts, map(count, vps)), Counts(0, 0, 0))\n",
    "draw_pdf_contours(Dirichlet((c.win, c.lose, c.draw)))"
   ]
  },
  {
   "cell_type": "code",
   "execution_count": null,
   "id": "973085c9-06ba-4a1e-91d9-231763faec4f",
   "metadata": {},
   "outputs": [],
   "source": [
    "fig, ax = plt.subplots(1, 2)\n",
    "for i in range(2):\n",
    "    c = reduce(addcounts, map(to_counts, map(count, filter(lambda vp: get_group(vp)==i, vps))), Counts(0, 0, 0))\n",
    "    plt.sca(ax[i])\n",
    "    draw_pdf_contours(Dirichlet((c.win, c.lose, c.draw)))"
   ]
  },
  {
   "cell_type": "code",
   "execution_count": null,
   "id": "a5c293b2-025c-4543-93a9-ca338d1669a2",
   "metadata": {},
   "outputs": [],
   "source": [
    "for i in range(2):\n",
    "    c = reduce(addcounts, map(to_counts, map(count, filter(lambda vp: get_group(vp)==i, vps))), Counts(0, 0, 0))\n",
    "    print(c)"
   ]
  },
  {
   "cell_type": "code",
   "execution_count": null,
   "id": "632b3a25-2f49-408c-9fef-89459ed6a878",
   "metadata": {},
   "outputs": [],
   "source": [
    "for i in range(2):\n",
    "    c = reduce(addcounts, map(to_counts, map(count, filter(lambda vp: get_group(vp)==i, vps))), Counts(0, 0, 0))\n",
    "    draw_pdf_contours(Dirichlet((c.win, c.lose, c.draw)))\n",
    "    plt.savefig(f'dirichlet_group{i}.png')"
   ]
  },
  {
   "cell_type": "code",
   "execution_count": null,
   "id": "0207e47d-bc86-4e49-a212-faae073076a1",
   "metadata": {},
   "outputs": [],
   "source": []
  }
 ],
 "metadata": {
  "kernelspec": {
   "display_name": "Python 3 (ipykernel)",
   "language": "python",
   "name": "python3"
  },
  "language_info": {
   "codemirror_mode": {
    "name": "ipython",
    "version": 3
   },
   "file_extension": ".py",
   "mimetype": "text/x-python",
   "name": "python",
   "nbconvert_exporter": "python",
   "pygments_lexer": "ipython3",
   "version": "3.9.7"
  }
 },
 "nbformat": 4,
 "nbformat_minor": 5
}
