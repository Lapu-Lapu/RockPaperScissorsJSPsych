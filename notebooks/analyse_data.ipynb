{
 "cells": [
  {
   "cell_type": "code",
   "execution_count": null,
   "id": "9f6e4fd0-2a92-421a-9e3e-5cc69bfc465e",
   "metadata": {},
   "outputs": [],
   "source": [
    "import matplotlib.pyplot as plt\n",
    "from collections import namedtuple\n",
    "\n",
    "from functools import reduce\n",
    "# from funcy import compose\n",
    "\n",
    "from collections import Counter\n",
    "import numpy as np\n",
    "import pandas as pd\n",
    "\n",
    "from operator import add\n",
    "\n",
    "from bogatron import draw_pdf_contours, Dirichlet, xy2bc, trimesh\n",
    "# draw_pdf_contours(Dirichlet([200, 100, 100]))"
   ]
  },
  {
   "cell_type": "code",
   "execution_count": null,
   "id": "eaa54f5f-0d44-4a27-a69d-a5107b5ff677",
   "metadata": {},
   "outputs": [],
   "source": [
    "def js_to_python(s):\n",
    "    d = {\n",
    "        \"true\": \"True\",\n",
    "        \"false\": \"False\",\n",
    "        \"null\": \"None\",\n",
    "        \"[]\": \"None\",\n",
    "        \"][\": \"],[\"\n",
    "    }\n",
    "    for k, v in d.items():\n",
    "        s = s.replace(k, v)\n",
    "    return s\n",
    "\n",
    "def read_line(s):\n",
    "    try:\n",
    "        return eval(js_to_python(s))\n",
    "    except Exception as e:\n",
    "        print(e)\n",
    "        a, b = eval(js_to_python(s))\n",
    "        return a\n",
    "\n",
    "def listdecorator(f):\n",
    "    return lambda x: list(f(x))\n",
    "\n",
    "@listdecorator\n",
    "def get_trial_data(exp_dicts):\n",
    "    return filter(is_trial, exp_dicts)\n",
    "        \n",
    "def is_trial(d):\n",
    "    st = 'stimulus_type'\n",
    "    return (d[st] == 'test') if (st in d.keys()) else False\n",
    "\n",
    "g0_instruction = '\\n<b>Geben Sie in jeder Runde Ihr Bestes, um zu gewinnen und beenden Sie die Studie bitte erst, wenn Sie alle Runden beendet haben.</b>\\n'\n",
    "g1_instruction = '\\n<b>Geben Sie in jeder Runde Ihr Bestes, um zu gewinnen, indem Sie versuchen\\n    möglichst zufällig zu spielen, da dies die beste Strategie ist, um eine\\n    künstliche Intelligenz zu besiegen.</b>\\n'\n",
    "\n",
    "def get_group(vp):\n",
    "    return int(raw_data[vp][2]['stimulus'] == g1_instruction)\n",
    "\n",
    "def nonempty_vp_idx(Ns, thr=0):\n",
    "    return map(lambda x: x[0], (filter(lambda x: x[1] > thr, enumerate(Ns))))\n",
    "\n",
    "def get_responses(vp_data):\n",
    "    return list(map(lambda d: (d['response'], d['bot_response']), filter(lambda d: 'bot_response' in d.keys(), vp_data)))\n",
    "\n",
    "def result(t):\n",
    "    return 0 if t[0] == t[1] else -1 if t[0]+t[1] in 'RPSR' else 1\n",
    "\n",
    "def count(vp):\n",
    "    return Counter(map(result, get_responses(raw_data[vp]))) \n",
    "\n",
    "def compute_winrate(vp):\n",
    "    r = count(vp)\n",
    "    return r[1] / (r[-1] + r[1])\n",
    "\n",
    "def to_counts(c):\n",
    "    return Counts(win=c[1], lose=c[-1], draw=c[0])\n",
    "\n",
    "def addcounts(c, acc):\n",
    "    r = Counts(win=acc.win + c.win, lose=acc.lose + c.lose, draw=acc.draw + c.draw)\n",
    "    return r\n",
    "\n",
    "def add_result(r):\n",
    "    return r[0], r[1], result(r)\n",
    "\n",
    "def plot_axis():\n",
    "    plt.plot([0, 0.5], [0, 0.2877], 'k-')\n",
    "    plt.plot([0.5, 0.5], [np.sqrt(0.75), 0.2877], 'k-')\n",
    "    plt.plot([1, 0.5], [0.0, 0.2877], 'k-')\n",
    "    \n",
    "Counts = namedtuple('Counts', ['win', 'lose', 'draw'])\n",
    "\n",
    "def to_counts(c):\n",
    "    return Counts(win=c[1], lose=c[-1], draw=c[0])\n",
    "\n",
    "def addcounts(c, acc):\n",
    "    r = Counts(win=acc.win + c.win, lose=acc.lose + c.lose, draw=acc.draw + c.draw)\n",
    "    return r\n"
   ]
  },
  {
   "cell_type": "code",
   "execution_count": null,
   "id": "b5a0ed84-b577-4e14-acad-9ce822ad3bce",
   "metadata": {},
   "outputs": [],
   "source": [
    "# load data\n",
    "fn = '../data/experiment/jatos_results_20230128043140.txt'\n",
    "with open(fn) as fh:\n",
    "    raw_data = [read_line(s) for s in fh]\n",
    "    #raw_data = fh.readlines()\n",
    "print('all vps:', len(raw_data))\n",
    "\n",
    "vps = list(filter(lambda vp: len(raw_data[vp]) > 600, range(len(raw_data))))\n",
    "print('vps with all trials:', vps)\n",
    "\n",
    "group = {vp: get_group(vp) for vp in vps}\n",
    "sum(group.values()) / len(group)"
   ]
  },
  {
   "cell_type": "code",
   "execution_count": null,
   "id": "2224ee6c",
   "metadata": {},
   "outputs": [],
   "source": [
    "# todo: pro gruppe statistik ueber post questionare antworten\n",
    "# freies textfeld\n",
    "\n",
    "# bot strategie:\n",
    "# wie start ist die präferenz der VPs"
   ]
  },
  {
   "cell_type": "code",
   "execution_count": null,
   "id": "ed438e6c",
   "metadata": {},
   "outputs": [],
   "source": [
    "# TODO\n",
    "# winstay loseshift\n",
    "# randomness evaluierne\n",
    "# todo: korreliert strategie mit randomness measure?\n",
    "for vp in vps:\n",
    "    pass\n",
    "    #print(raw_data[vp][-1]['response'])"
   ]
  },
  {
   "cell_type": "code",
   "execution_count": null,
   "id": "287c9436",
   "metadata": {},
   "outputs": [],
   "source": [
    "\n",
    "\n",
    "#list(map(add_result, (reduce(add, [get_responses(raw_data[i]) for i in vps if group[i] == 0]))))"
   ]
  },
  {
   "cell_type": "code",
   "execution_count": null,
   "id": "4a66c3d2",
   "metadata": {},
   "outputs": [],
   "source": [
    "# dataframe mit spalte result, gruppe, strategie\n",
    "for c in range(2):\n",
    "    pass\n",
    "    pd.DataFrame(list(map(add_result, (reduce(add, [get_responses(raw_data[i]) for i in vps if group[i] == c]))))).to_excel(f'group{c}.xlsx')"
   ]
  },
  {
   "cell_type": "code",
   "execution_count": null,
   "id": "815a40b7",
   "metadata": {},
   "outputs": [],
   "source": [
    "list(map(result, get_responses(raw_data[0])))\n",
    "for i in vps:\n",
    "    fn = f'excel_files/vp{i:02d}.xlsx'\n",
    "    #pd.DataFrame(map(add_result, get_responses(raw_data[i]))).to_excel(fn)"
   ]
  },
  {
   "cell_type": "code",
   "execution_count": null,
   "id": "04ebd464",
   "metadata": {},
   "outputs": [],
   "source": [
    "# strats = ['nash_equilibrium_strategy', 'winstay', 'rotate_strategy', 'learn_preference', 'dont_always_copy_opponent_move']\n",
    "# strats = ['super_male_strategy', 'nash_equilibrium_strategy', 'winstay', 'rotate_strategy', 'learn_preference', 'dont_always_copy_opponent_move']\n",
    "# for vp in vps:\n",
    "#     strategy = strats[list(map(lambda d: d['strategy'], filter(lambda d: 'strategy' in d.keys(), raw_data[vp])))[0]]\n",
    "#     print(f'VP {vp}: {compute_winrate(vp)}, Group {get_group(vp)}')"
   ]
  },
  {
   "cell_type": "code",
   "execution_count": null,
   "id": "d2bb94b5",
   "metadata": {},
   "outputs": [],
   "source": [
    "# for vp in vps:\n",
    "#     wr = compute_winrate(vp)\n",
    "    \n",
    "# sum([compute_winrate(vp) for vp in vps]) / len(vps)"
   ]
  },
  {
   "cell_type": "code",
   "execution_count": null,
   "id": "ba8cde40",
   "metadata": {},
   "outputs": [],
   "source": [
    "sum([compute_winrate(vp) for vp in vps if group[vp]]) / sum(group.values())"
   ]
  },
  {
   "cell_type": "code",
   "execution_count": null,
   "id": "d0e19b18",
   "metadata": {},
   "outputs": [],
   "source": [
    "sum([compute_winrate(vp) for vp in vps if not group[vp]]) / (len(group) - sum(group.values()))"
   ]
  },
  {
   "cell_type": "code",
   "execution_count": null,
   "id": "78ac1b13",
   "metadata": {},
   "outputs": [],
   "source": [
    "# Sum up all results\n",
    "c_total = reduce(addcounts, map(to_counts, map(count, vps)), Counts(0, 0, 0))"
   ]
  },
  {
   "cell_type": "code",
   "execution_count": null,
   "id": "b8c86235-54b8-4465-b064-d6a51a2c4d59",
   "metadata": {},
   "outputs": [],
   "source": [
    "# reduce(addcounts, to_counts(count(0)), Counts(0, 0, 0))\n",
    "c = to_counts(count(0))\n"
   ]
  },
  {
   "cell_type": "code",
   "execution_count": null,
   "id": "b94ee7d1",
   "metadata": {},
   "outputs": [],
   "source": [
    "fig, ax = plt.subplots(1, 2)\n",
    "plt.title(f'{c.win}, {c.lose}, {c.draw}')\n",
    "plt.sca(ax[0])\n",
    "draw_pdf_contours(Dirichlet((c.win, c.lose, c.draw)))\n",
    "plot_axis()\n",
    "plt.sca(ax[1])\n",
    "draw_pdf_contours(Dirichlet((c_total.win, c_total.lose, c_total.draw)))\n",
    "plot_axis()\n",
    "plt.show()"
   ]
  },
  {
   "cell_type": "code",
   "execution_count": null,
   "id": "5920af33",
   "metadata": {},
   "outputs": [],
   "source": [
    "c = reduce(addcounts, map(to_counts, map(count, vps)), Counts(0, 0, 0))\n",
    "draw_pdf_contours(Dirichlet((c.win, c.lose, c.draw)))"
   ]
  },
  {
   "cell_type": "code",
   "execution_count": null,
   "id": "3ead703c",
   "metadata": {},
   "outputs": [],
   "source": [
    "fig, ax = plt.subplots(1, 2)\n",
    "for i in range(2):\n",
    "    c = reduce(addcounts, map(to_counts, map(count, filter(lambda vp: get_group(vp)==i, vps))), Counts(0, 0, 0))\n",
    "    plt.sca(ax[i])\n",
    "    draw_pdf_contours(Dirichlet((c.win, c.lose, c.draw)))"
   ]
  },
  {
   "cell_type": "code",
   "execution_count": null,
   "id": "96808c10",
   "metadata": {},
   "outputs": [],
   "source": [
    "for i in range(2):\n",
    "    c = reduce(addcounts, map(to_counts, map(count, filter(lambda vp: get_group(vp)==i, vps))), Counts(0, 0, 0))\n",
    "    print(c)"
   ]
  },
  {
   "cell_type": "code",
   "execution_count": null,
   "id": "a136f2ac",
   "metadata": {},
   "outputs": [],
   "source": [
    "for i in range(2):\n",
    "    c = reduce(addcounts, map(to_counts, map(count, filter(lambda vp: get_group(vp)==i, vps))), Counts(0, 0, 0))\n",
    "    draw_pdf_contours(Dirichlet((c.win, c.lose, c.draw)))\n",
    "    plot_axis()\n",
    "    plt.savefig(f'dirichlet_group{i}.png')"
   ]
  },
  {
   "cell_type": "code",
   "execution_count": null,
   "id": "61ba45be",
   "metadata": {},
   "outputs": [],
   "source": [
    "# Hypothese 1: win stay lose shift"
   ]
  }
 ],
 "metadata": {
  "kernelspec": {
   "display_name": "base",
   "language": "python",
   "name": "base"
  },
  "language_info": {
   "codemirror_mode": {
    "name": "ipython",
    "version": 3
   },
   "file_extension": ".py",
   "mimetype": "text/x-python",
   "name": "python",
   "nbconvert_exporter": "python",
   "pygments_lexer": "ipython3",
   "version": "3.8.3"
  }
 },
 "nbformat": 4,
 "nbformat_minor": 5
}
