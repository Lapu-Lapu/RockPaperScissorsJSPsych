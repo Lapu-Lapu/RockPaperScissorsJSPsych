{
 "cells": [
  {
   "cell_type": "code",
   "execution_count": null,
   "id": "f09f0333-bae7-406f-a082-bbe91fe63077",
   "metadata": {},
   "outputs": [],
   "source": [
    "def js_to_python(s):\n",
    "    d = {\n",
    "        \"true\": \"True\",\n",
    "        \"false\": \"False\",\n",
    "        \"null\": \"None\",\n",
    "        \"[]\": \"None\",\n",
    "        \"][\": \"],[\"\n",
    "    }\n",
    "    for k, v in d.items():\n",
    "        s = s.replace(k, v)\n",
    "    return s\n",
    "\n",
    "def read_line(s):\n",
    "    try:\n",
    "        a, b = eval(js_to_python(s))\n",
    "        return a\n",
    "    except Exception as e:\n",
    "        print(e)\n",
    "        return eval(js_to_python(s))\n",
    "        return []\n",
    "\n",
    "def listdecorator(f):\n",
    "    return lambda x: list(f(x))\n",
    "\n",
    "@listdecorator\n",
    "def get_trial_data(exp_dicts):\n",
    "    return filter(is_trial, exp_dicts)\n",
    "        \n",
    "def is_trial(d):\n",
    "    st = 'stimulus_type'\n",
    "    return (d[st] == 'test') if (st in d.keys()) else False\n",
    "\n",
    "def get_all_stimuli(trials):\n",
    "    return [os.path.basename(trial[s]) for trial in trials for s in ['left', 'right']]\n",
    "\n",
    "def get_group(fn):\n",
    "    for g in ['low', 'high', 'medium']:\n",
    "        if g in fn:\n",
    "            return g\n",
    "\n",
    "def nonempty_vp_idx(Ns, thr=0):\n",
    "    return map(lambda x: x[0], (filter(lambda x: x[1] > thr, enumerate(Ns))))"
   ]
  },
  {
   "cell_type": "code",
   "execution_count": null,
   "id": "e81fb5c4-4b1e-4c46-9347-c8d531a4fad7",
   "metadata": {},
   "outputs": [],
   "source": [
    "fn = '../data/experiment/jatos_results_20230119081857.txt'\n",
    "with open(fn) as fh:\n",
    "    raw_data = [read_line(s) for s in fh]\n",
    "    #raw_data = fh.readlines()\n",
    "len(raw_data)"
   ]
  },
  {
   "cell_type": "code",
   "execution_count": null,
   "id": "363040b5-a833-412e-8c87-ebb2c7793ff8",
   "metadata": {},
   "outputs": [],
   "source": [
    "def get_responses(vp_data):\n",
    "    return list(map(lambda d: (d['response'], d['bot_response']), filter(lambda d: 'bot_response' in d.keys(), vp_data)))\n",
    "\n",
    "def result(t):\n",
    "    return 0 if t[0] == t[1] else -1 if t[0]+t[1] in 'RPSR' else 1"
   ]
  },
  {
   "cell_type": "code",
   "execution_count": null,
   "id": "40f8535c-75ae-4c48-a3d0-f39ff33c5c5a",
   "metadata": {},
   "outputs": [],
   "source": [
    "from collections import Counter\n",
    "vp = 0\n",
    "strats = ['nash_equilibrium_strategy', 'winstay', 'rotate_strategy', 'learn_preference', 'dont_always_copy_opponent_move']\n",
    "# list(zip(get_responses(raw_data[vp]), map(result, get_responses(raw_data[vp]))))\n",
    "for vp in range(len(raw_data)):\n",
    "    strategy = strats[list(map(lambda d: d['strategy'], filter(lambda d: 'strategy' in d.keys(), raw_data[vp])))[0]]\n",
    "    r = Counter(map(result, get_responses(raw_data[vp]))) \n",
    "    print(f'VP {vp} ({strategy}):', r[1] / (r[-1] + r[1]))"
   ]
  }
 ],
 "metadata": {
  "kernelspec": {
   "display_name": "Python 3 (ipykernel)",
   "language": "python",
   "name": "python3"
  },
  "language_info": {
   "codemirror_mode": {
    "name": "ipython",
    "version": 3
   },
   "file_extension": ".py",
   "mimetype": "text/x-python",
   "name": "python",
   "nbconvert_exporter": "python",
   "pygments_lexer": "ipython3",
   "version": "3.9.7"
  }
 },
 "nbformat": 4,
 "nbformat_minor": 5
}
