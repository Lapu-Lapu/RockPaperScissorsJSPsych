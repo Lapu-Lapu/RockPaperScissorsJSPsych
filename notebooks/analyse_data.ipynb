{
 "cells": [
  {
   "cell_type": "code",
   "execution_count": null,
   "id": "4bb6b24d",
   "metadata": {},
   "outputs": [],
   "source": [
    "def js_to_python(s):\n",
    "    d = {\n",
    "        \"true\": \"True\",\n",
    "        \"false\": \"False\",\n",
    "        \"null\": \"None\",\n",
    "        \"[]\": \"None\",\n",
    "        \"][\": \"],[\"\n",
    "    }\n",
    "    for k, v in d.items():\n",
    "        s = s.replace(k, v)\n",
    "    return s\n",
    "\n",
    "def read_line(s):\n",
    "    try:\n",
    "        return eval(js_to_python(s))\n",
    "    except Exception as e:\n",
    "        print(e)\n",
    "        a, b = eval(js_to_python(s))\n",
    "        return a\n",
    "\n",
    "def listdecorator(f):\n",
    "    return lambda x: list(f(x))\n",
    "\n",
    "@listdecorator\n",
    "def get_trial_data(exp_dicts):\n",
    "    return filter(is_trial, exp_dicts)\n",
    "        \n",
    "def is_trial(d):\n",
    "    st = 'stimulus_type'\n",
    "    return (d[st] == 'test') if (st in d.keys()) else False\n",
    "\n",
    "def get_all_stimuli(trials):\n",
    "    return [os.path.basename(trial[s]) for trial in trials for s in ['left', 'right']]\n",
    "\n",
    "def get_group(fn):\n",
    "    for g in ['low', 'high', 'medium']:\n",
    "        if g in fn:\n",
    "            return g\n",
    "\n",
    "def nonempty_vp_idx(Ns, thr=0):\n",
    "    return map(lambda x: x[0], (filter(lambda x: x[1] > thr, enumerate(Ns))))"
   ]
  },
  {
   "cell_type": "code",
   "execution_count": null,
   "id": "bdf73749",
   "metadata": {},
   "outputs": [],
   "source": [
    "fn = '../data/experiment/jatos_results_20230119081857.txt'\n",
    "fn = '../data/experiment/jatos_results_20230119120735.txt'\n",
    "fn = '../data/experiment/jatos_results_20230120090949.txt'\n",
    "fn = '../data/experiment/jatos_results_20230120094311.txt'\n",
    "fn = '../data/experiment/jatos_results_20230125083535.txt'\n",
    "with open(fn) as fh:\n",
    "    raw_data = [read_line(s) for s in fh]\n",
    "    #raw_data = fh.readlines()\n",
    "len(raw_data)"
   ]
  },
  {
   "cell_type": "code",
   "execution_count": null,
   "id": "7c052c46",
   "metadata": {},
   "outputs": [],
   "source": [
    "def get_responses(vp_data):\n",
    "    return list(map(lambda d: (d['response'], d['bot_response']), filter(lambda d: 'bot_response' in d.keys(), vp_data)))\n",
    "\n",
    "def result(t):\n",
    "    return 0 if t[0] == t[1] else -1 if t[0]+t[1] in 'RPSR' else 1"
   ]
  },
  {
   "cell_type": "code",
   "execution_count": null,
   "id": "272f03b0-a232-4634-9b88-4d3c9c890dfa",
   "metadata": {},
   "outputs": [],
   "source": [
    "vps = list(filter(lambda vp: len(raw_data[vp]) > 600, range(len(raw_data))))\n",
    "len(vps)\n",
    "g0_instruction = '\\n<b>Geben Sie in jeder Runde Ihr Bestes, um zu gewinnen und beenden Sie die Studie bitte erst, wenn Sie alle Runden beendet haben.</b>\\n'\n",
    "g1_instruction = '\\n<b>Geben Sie in jeder Runde Ihr Bestes, um zu gewinnen, indem Sie versuchen\\n    möglichst zufällig zu spielen, da dies die beste Strategie ist, um eine\\n    künstliche Intelligenz zu besiegen.</b>\\n'\n",
    "#group = [int(raw_data[vp][2]['stimulus'] == g1_instruction) for vp in vps]\n",
    "group = {vp: int(raw_data[vp][2]['stimulus'] == g1_instruction) for vp in vps}\n",
    "sum(group.values()) / len(group)"
   ]
  },
  {
   "cell_type": "code",
   "execution_count": null,
   "id": "4b324613",
   "metadata": {},
   "outputs": [],
   "source": [
    "from collections import Counter\n",
    "vp = 0\n",
    "strats = ['nash_equilibrium_strategy', 'winstay', 'rotate_strategy', 'learn_preference', 'dont_always_copy_opponent_move']\n",
    "strats = ['super_male_strategy', 'nash_equilibrium_strategy', 'winstay', 'rotate_strategy', 'learn_preference', 'dont_always_copy_opponent_move']\n",
    "# list(zip(get_responses(raw_data[vp]), map(result, get_responses(raw_data[vp]))))\n",
    "for vp in vps:\n",
    "    strategy = strats[list(map(lambda d: d['strategy'], filter(lambda d: 'strategy' in d.keys(), raw_data[vp])))[0]]\n",
    "    N = len(raw_data[vp])\n",
    "    r = Counter(map(result, get_responses(raw_data[vp]))) \n",
    "    if r[-1] + r[1] != 0:\n",
    "        #print(f'VP {vp} ({strategy}):', r[1] / (r[-1] + r[1]))\n",
    "        print(f'VP {vp}:', r[1] / (r[-1] + r[1]))"
   ]
  },
  {
   "cell_type": "code",
   "execution_count": null,
   "id": "6f07cde9-f909-4d0a-ab41-76e88210f7c2",
   "metadata": {},
   "outputs": [],
   "source": [
    "def compute_winrate(vp):\n",
    "    r = Counter(map(result, get_responses(raw_data[vp]))) \n",
    "    return r[1] / (r[-1] + r[1])\n",
    "    \n",
    "for vp in vps:\n",
    "    wr = compute_winrate(vp)\n",
    "    \n",
    "sum([compute_winrate(vp) for vp in vps]) / len(vps)"
   ]
  },
  {
   "cell_type": "code",
   "execution_count": null,
   "id": "d5f12488-7755-4094-b2f3-fda2ec7e36a0",
   "metadata": {},
   "outputs": [],
   "source": [
    "sum([compute_winrate(vp) for vp in vps if group[vp]]) / sum(group.values())"
   ]
  },
  {
   "cell_type": "code",
   "execution_count": null,
   "id": "f8bd2f40-ea0b-424b-b6ca-e7aa53e2bb68",
   "metadata": {},
   "outputs": [],
   "source": [
    "sum([compute_winrate(vp) for vp in vps if not group[vp]]) / (len(group) - sum(group.values()))"
   ]
  },
  {
   "cell_type": "code",
   "execution_count": null,
   "id": "48bb24cd",
   "metadata": {
    "tags": []
   },
   "outputs": [],
   "source": [
    "Counter(map(result, get_responses(raw_data[vp]))) "
   ]
  },
  {
   "cell_type": "code",
   "execution_count": null,
   "id": "7777aa43",
   "metadata": {},
   "outputs": [],
   "source": []
  }
 ],
 "metadata": {
  "kernelspec": {
   "display_name": "Python 3",
   "language": "python",
   "name": "python3"
  },
  "language_info": {
   "codemirror_mode": {
    "name": "ipython",
    "version": 3
   },
   "file_extension": ".py",
   "mimetype": "text/x-python",
   "name": "python",
   "nbconvert_exporter": "python",
   "pygments_lexer": "ipython3",
   "version": "3.8.0"
  }
 },
 "nbformat": 4,
 "nbformat_minor": 5
}
